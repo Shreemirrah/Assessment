{
 "cells": [
  {
   "cell_type": "markdown",
   "metadata": {},
   "source": [
    "# Import necessary libraries"
   ]
  },
  {
   "cell_type": "code",
   "execution_count": 1,
   "metadata": {},
   "outputs": [],
   "source": [
    "import seaborn as sns\n",
    "import matplotlib.pyplot as plt\n",
    "import pandas as pd\n",
    "import numpy as np\n",
    "import random\n",
    "from scipy.sparse import csr_matrix\n",
    "from sklearn.neighbors import NearestNeighbors\n",
    "%matplotlib inline"
   ]
  },
  {
   "cell_type": "markdown",
   "metadata": {},
   "source": [
    "# Extract dataset, check for null values, clean"
   ]
  },
  {
   "cell_type": "code",
   "execution_count": 2,
   "metadata": {},
   "outputs": [
    {
     "data": {
      "text/html": [
       "<div>\n",
       "<style scoped>\n",
       "    .dataframe tbody tr th:only-of-type {\n",
       "        vertical-align: middle;\n",
       "    }\n",
       "\n",
       "    .dataframe tbody tr th {\n",
       "        vertical-align: top;\n",
       "    }\n",
       "\n",
       "    .dataframe thead th {\n",
       "        text-align: right;\n",
       "    }\n",
       "</style>\n",
       "<table border=\"1\" class=\"dataframe\">\n",
       "  <thead>\n",
       "    <tr style=\"text-align: right;\">\n",
       "      <th></th>\n",
       "      <th>bookID</th>\n",
       "      <th>title</th>\n",
       "      <th>authors</th>\n",
       "      <th>average_rating</th>\n",
       "      <th>isbn</th>\n",
       "      <th>isbn13</th>\n",
       "      <th>language_code</th>\n",
       "      <th>num_pages</th>\n",
       "      <th>ratings_count</th>\n",
       "      <th>text_reviews_count</th>\n",
       "      <th>publication_date</th>\n",
       "      <th>publisher</th>\n",
       "      <th>Unnamed: 12</th>\n",
       "    </tr>\n",
       "  </thead>\n",
       "  <tbody>\n",
       "    <tr>\n",
       "      <th>0</th>\n",
       "      <td>1</td>\n",
       "      <td>Harry Potter and the Half-Blood Prince (Harry ...</td>\n",
       "      <td>J.K. Rowling/Mary GrandPrÃ©</td>\n",
       "      <td>4.57</td>\n",
       "      <td>439785960</td>\n",
       "      <td>9780000000000</td>\n",
       "      <td>eng</td>\n",
       "      <td>652</td>\n",
       "      <td>2095690</td>\n",
       "      <td>27591</td>\n",
       "      <td>2006-09-16 00:00:00</td>\n",
       "      <td>Scholastic Inc.</td>\n",
       "      <td>NaN</td>\n",
       "    </tr>\n",
       "    <tr>\n",
       "      <th>1</th>\n",
       "      <td>2</td>\n",
       "      <td>Harry Potter and the Order of the Phoenix (Har...</td>\n",
       "      <td>J.K. Rowling/Mary GrandPrÃ©</td>\n",
       "      <td>4.49</td>\n",
       "      <td>439358078</td>\n",
       "      <td>9780000000000</td>\n",
       "      <td>eng</td>\n",
       "      <td>870</td>\n",
       "      <td>2153167</td>\n",
       "      <td>29221</td>\n",
       "      <td>2004-09-01 00:00:00</td>\n",
       "      <td>Scholastic Inc.</td>\n",
       "      <td>NaN</td>\n",
       "    </tr>\n",
       "    <tr>\n",
       "      <th>2</th>\n",
       "      <td>4</td>\n",
       "      <td>Harry Potter and the Chamber of Secrets (Harry...</td>\n",
       "      <td>J.K. Rowling</td>\n",
       "      <td>4.42</td>\n",
       "      <td>439554896</td>\n",
       "      <td>9780000000000</td>\n",
       "      <td>eng</td>\n",
       "      <td>352</td>\n",
       "      <td>6333</td>\n",
       "      <td>244</td>\n",
       "      <td>2003-11-01 00:00:00</td>\n",
       "      <td>Scholastic</td>\n",
       "      <td>NaN</td>\n",
       "    </tr>\n",
       "    <tr>\n",
       "      <th>3</th>\n",
       "      <td>5</td>\n",
       "      <td>Harry Potter and the Prisoner of Azkaban (Harr...</td>\n",
       "      <td>J.K. Rowling/Mary GrandPrÃ©</td>\n",
       "      <td>4.56</td>\n",
       "      <td>043965548X</td>\n",
       "      <td>9780000000000</td>\n",
       "      <td>eng</td>\n",
       "      <td>435</td>\n",
       "      <td>2339585</td>\n",
       "      <td>36325</td>\n",
       "      <td>2004-05-01 00:00:00</td>\n",
       "      <td>Scholastic Inc.</td>\n",
       "      <td>NaN</td>\n",
       "    </tr>\n",
       "    <tr>\n",
       "      <th>4</th>\n",
       "      <td>8</td>\n",
       "      <td>Harry Potter Boxed Set  Books 1-5 (Harry Potte...</td>\n",
       "      <td>J.K. Rowling/Mary GrandPrÃ©</td>\n",
       "      <td>4.78</td>\n",
       "      <td>439682584</td>\n",
       "      <td>9780000000000</td>\n",
       "      <td>eng</td>\n",
       "      <td>2690</td>\n",
       "      <td>41428</td>\n",
       "      <td>164</td>\n",
       "      <td>2004-09-13 00:00:00</td>\n",
       "      <td>Scholastic</td>\n",
       "      <td>NaN</td>\n",
       "    </tr>\n",
       "    <tr>\n",
       "      <th>5</th>\n",
       "      <td>9</td>\n",
       "      <td>Unauthorized Harry Potter Book Seven News: \"Ha...</td>\n",
       "      <td>W. Frederick Zimmerman</td>\n",
       "      <td>3.74</td>\n",
       "      <td>976540606</td>\n",
       "      <td>9780000000000</td>\n",
       "      <td>en-US</td>\n",
       "      <td>152</td>\n",
       "      <td>19</td>\n",
       "      <td>1</td>\n",
       "      <td>2005-04-26 00:00:00</td>\n",
       "      <td>Nimble Books</td>\n",
       "      <td>NaN</td>\n",
       "    </tr>\n",
       "    <tr>\n",
       "      <th>6</th>\n",
       "      <td>10</td>\n",
       "      <td>Harry Potter Collection (Harry Potter  #1-6)</td>\n",
       "      <td>J.K. Rowling</td>\n",
       "      <td>4.73</td>\n",
       "      <td>439827604</td>\n",
       "      <td>9780000000000</td>\n",
       "      <td>eng</td>\n",
       "      <td>3342</td>\n",
       "      <td>28242</td>\n",
       "      <td>808</td>\n",
       "      <td>2005-09-12 00:00:00</td>\n",
       "      <td>Scholastic</td>\n",
       "      <td>NaN</td>\n",
       "    </tr>\n",
       "    <tr>\n",
       "      <th>7</th>\n",
       "      <td>12</td>\n",
       "      <td>The Ultimate Hitchhiker's Guide: Five Complete...</td>\n",
       "      <td>Douglas Adams</td>\n",
       "      <td>4.38</td>\n",
       "      <td>517226952</td>\n",
       "      <td>9780000000000</td>\n",
       "      <td>eng</td>\n",
       "      <td>815</td>\n",
       "      <td>3628</td>\n",
       "      <td>254</td>\n",
       "      <td>2005-11-01 00:00:00</td>\n",
       "      <td>Gramercy Books</td>\n",
       "      <td>NaN</td>\n",
       "    </tr>\n",
       "    <tr>\n",
       "      <th>8</th>\n",
       "      <td>13</td>\n",
       "      <td>The Ultimate Hitchhiker's Guide to the Galaxy ...</td>\n",
       "      <td>Douglas Adams</td>\n",
       "      <td>4.38</td>\n",
       "      <td>345453743</td>\n",
       "      <td>9780000000000</td>\n",
       "      <td>eng</td>\n",
       "      <td>815</td>\n",
       "      <td>249558</td>\n",
       "      <td>4080</td>\n",
       "      <td>2002-04-30 00:00:00</td>\n",
       "      <td>Del Rey Books</td>\n",
       "      <td>NaN</td>\n",
       "    </tr>\n",
       "    <tr>\n",
       "      <th>9</th>\n",
       "      <td>14</td>\n",
       "      <td>The Hitchhiker's Guide to the Galaxy (Hitchhik...</td>\n",
       "      <td>Douglas Adams</td>\n",
       "      <td>4.22</td>\n",
       "      <td>1400052920</td>\n",
       "      <td>9780000000000</td>\n",
       "      <td>eng</td>\n",
       "      <td>215</td>\n",
       "      <td>4930</td>\n",
       "      <td>460</td>\n",
       "      <td>2004-08-03 00:00:00</td>\n",
       "      <td>Crown</td>\n",
       "      <td>NaN</td>\n",
       "    </tr>\n",
       "  </tbody>\n",
       "</table>\n",
       "</div>"
      ],
      "text/plain": [
       "   bookID                                              title  \\\n",
       "0       1  Harry Potter and the Half-Blood Prince (Harry ...   \n",
       "1       2  Harry Potter and the Order of the Phoenix (Har...   \n",
       "2       4  Harry Potter and the Chamber of Secrets (Harry...   \n",
       "3       5  Harry Potter and the Prisoner of Azkaban (Harr...   \n",
       "4       8  Harry Potter Boxed Set  Books 1-5 (Harry Potte...   \n",
       "5       9  Unauthorized Harry Potter Book Seven News: \"Ha...   \n",
       "6      10       Harry Potter Collection (Harry Potter  #1-6)   \n",
       "7      12  The Ultimate Hitchhiker's Guide: Five Complete...   \n",
       "8      13  The Ultimate Hitchhiker's Guide to the Galaxy ...   \n",
       "9      14  The Hitchhiker's Guide to the Galaxy (Hitchhik...   \n",
       "\n",
       "                       authors average_rating        isbn         isbn13  \\\n",
       "0  J.K. Rowling/Mary GrandPrÃ©           4.57   439785960  9780000000000   \n",
       "1  J.K. Rowling/Mary GrandPrÃ©           4.49   439358078  9780000000000   \n",
       "2                 J.K. Rowling           4.42   439554896  9780000000000   \n",
       "3  J.K. Rowling/Mary GrandPrÃ©           4.56  043965548X  9780000000000   \n",
       "4  J.K. Rowling/Mary GrandPrÃ©           4.78   439682584  9780000000000   \n",
       "5       W. Frederick Zimmerman           3.74   976540606  9780000000000   \n",
       "6                 J.K. Rowling           4.73   439827604  9780000000000   \n",
       "7                Douglas Adams           4.38   517226952  9780000000000   \n",
       "8                Douglas Adams           4.38   345453743  9780000000000   \n",
       "9                Douglas Adams           4.22  1400052920  9780000000000   \n",
       "\n",
       "  language_code num_pages  ratings_count  text_reviews_count  \\\n",
       "0           eng       652        2095690               27591   \n",
       "1           eng       870        2153167               29221   \n",
       "2           eng       352           6333                 244   \n",
       "3           eng       435        2339585               36325   \n",
       "4           eng      2690          41428                 164   \n",
       "5         en-US       152             19                   1   \n",
       "6           eng      3342          28242                 808   \n",
       "7           eng       815           3628                 254   \n",
       "8           eng       815         249558                4080   \n",
       "9           eng       215           4930                 460   \n",
       "\n",
       "      publication_date        publisher Unnamed: 12  \n",
       "0  2006-09-16 00:00:00  Scholastic Inc.         NaN  \n",
       "1  2004-09-01 00:00:00  Scholastic Inc.         NaN  \n",
       "2  2003-11-01 00:00:00       Scholastic         NaN  \n",
       "3  2004-05-01 00:00:00  Scholastic Inc.         NaN  \n",
       "4  2004-09-13 00:00:00       Scholastic         NaN  \n",
       "5  2005-04-26 00:00:00     Nimble Books         NaN  \n",
       "6  2005-09-12 00:00:00       Scholastic         NaN  \n",
       "7  2005-11-01 00:00:00   Gramercy Books         NaN  \n",
       "8  2002-04-30 00:00:00    Del Rey Books         NaN  \n",
       "9  2004-08-03 00:00:00            Crown         NaN  "
      ]
     },
     "execution_count": 2,
     "metadata": {},
     "output_type": "execute_result"
    }
   ],
   "source": [
    "data=pd.read_excel('books_dataset.xlsx')\n",
    "data.head(10)"
   ]
  },
  {
   "cell_type": "code",
   "execution_count": 3,
   "metadata": {},
   "outputs": [
    {
     "data": {
      "text/plain": [
       "(11127, 13)"
      ]
     },
     "execution_count": 3,
     "metadata": {},
     "output_type": "execute_result"
    }
   ],
   "source": [
    "data.shape"
   ]
  },
  {
   "cell_type": "code",
   "execution_count": 4,
   "metadata": {},
   "outputs": [
    {
     "data": {
      "text/plain": [
       "<bound method DataFrame.info of        bookID                                              title  \\\n",
       "0           1  Harry Potter and the Half-Blood Prince (Harry ...   \n",
       "1           2  Harry Potter and the Order of the Phoenix (Har...   \n",
       "2           4  Harry Potter and the Chamber of Secrets (Harry...   \n",
       "3           5  Harry Potter and the Prisoner of Azkaban (Harr...   \n",
       "4           8  Harry Potter Boxed Set  Books 1-5 (Harry Potte...   \n",
       "...       ...                                                ...   \n",
       "11122   45631   Expelled from Eden: A William T. Vollmann Reader   \n",
       "11123   45633                        You Bright and Risen Angels   \n",
       "11124   45634                    The Ice-Shirt (Seven Dreams #1)   \n",
       "11125   45639                                        Poor People   \n",
       "11126   45641                        Las aventuras de Tom Sawyer   \n",
       "\n",
       "                                                 authors average_rating  \\\n",
       "0                            J.K. Rowling/Mary GrandPrÃ©           4.57   \n",
       "1                            J.K. Rowling/Mary GrandPrÃ©           4.49   \n",
       "2                                           J.K. Rowling           4.42   \n",
       "3                            J.K. Rowling/Mary GrandPrÃ©           4.56   \n",
       "4                            J.K. Rowling/Mary GrandPrÃ©           4.78   \n",
       "...                                                  ...            ...   \n",
       "11122  William T. Vollmann/Larry McCaffery/Michael He...           4.06   \n",
       "11123                                William T. Vollmann           4.08   \n",
       "11124                                William T. Vollmann           3.96   \n",
       "11125                                William T. Vollmann           3.72   \n",
       "11126                                         Mark Twain           3.91   \n",
       "\n",
       "             isbn         isbn13 language_code num_pages  ratings_count  \\\n",
       "0       439785960  9780000000000           eng       652        2095690   \n",
       "1       439358078  9780000000000           eng       870        2153167   \n",
       "2       439554896  9780000000000           eng       352           6333   \n",
       "3      043965548X  9780000000000           eng       435        2339585   \n",
       "4       439682584  9780000000000           eng      2690          41428   \n",
       "...           ...            ...           ...       ...            ...   \n",
       "11122  1560254416  9780000000000           eng       512            156   \n",
       "11123   140110879  9780000000000           eng       635            783   \n",
       "11124   140131965  9780000000000           eng       415            820   \n",
       "11125    60878827  9780000000000           eng       434            769   \n",
       "11126  8497646983  9790000000000           spa       272            113   \n",
       "\n",
       "       text_reviews_count     publication_date        publisher Unnamed: 12  \n",
       "0                   27591  2006-09-16 00:00:00  Scholastic Inc.         NaN  \n",
       "1                   29221  2004-09-01 00:00:00  Scholastic Inc.         NaN  \n",
       "2                     244  2003-11-01 00:00:00       Scholastic         NaN  \n",
       "3                   36325  2004-05-01 00:00:00  Scholastic Inc.         NaN  \n",
       "4                     164  2004-09-13 00:00:00       Scholastic         NaN  \n",
       "...                   ...                  ...              ...         ...  \n",
       "11122                  20  2004-12-21 00:00:00    Da Capo Press         NaN  \n",
       "11123                  56  1988-12-01 00:00:00    Penguin Books         NaN  \n",
       "11124                  95  1993-08-01 00:00:00    Penguin Books         NaN  \n",
       "11125                 139  2007-02-27 00:00:00             Ecco         NaN  \n",
       "11126                  12  2006-05-28 00:00:00    Edimat Libros         NaN  \n",
       "\n",
       "[11127 rows x 13 columns]>"
      ]
     },
     "execution_count": 4,
     "metadata": {},
     "output_type": "execute_result"
    }
   ],
   "source": [
    "data.info"
   ]
  },
  {
   "cell_type": "code",
   "execution_count": 5,
   "metadata": {},
   "outputs": [
    {
     "data": {
      "text/plain": [
       "Index(['bookID', 'title', 'authors', 'average_rating', 'isbn', 'isbn13',\n",
       "       'language_code', 'num_pages', 'ratings_count', 'text_reviews_count',\n",
       "       'publication_date', 'publisher', 'Unnamed: 12'],\n",
       "      dtype='object')"
      ]
     },
     "execution_count": 5,
     "metadata": {},
     "output_type": "execute_result"
    }
   ],
   "source": [
    "data.columns"
   ]
  },
  {
   "cell_type": "code",
   "execution_count": 6,
   "metadata": {},
   "outputs": [
    {
     "data": {
      "text/plain": [
       "bookID                False\n",
       "title                 False\n",
       "authors               False\n",
       "average_rating        False\n",
       "isbn                  False\n",
       "isbn13                False\n",
       "language_code         False\n",
       "num_pages             False\n",
       "ratings_count         False\n",
       "text_reviews_count    False\n",
       "publication_date      False\n",
       "publisher             False\n",
       "Unnamed: 12            True\n",
       "dtype: bool"
      ]
     },
     "execution_count": 6,
     "metadata": {},
     "output_type": "execute_result"
    }
   ],
   "source": [
    "data.isna().any()"
   ]
  },
  {
   "cell_type": "code",
   "execution_count": 7,
   "metadata": {},
   "outputs": [
    {
     "data": {
      "text/html": [
       "<div>\n",
       "<style scoped>\n",
       "    .dataframe tbody tr th:only-of-type {\n",
       "        vertical-align: middle;\n",
       "    }\n",
       "\n",
       "    .dataframe tbody tr th {\n",
       "        vertical-align: top;\n",
       "    }\n",
       "\n",
       "    .dataframe thead th {\n",
       "        text-align: right;\n",
       "    }\n",
       "</style>\n",
       "<table border=\"1\" class=\"dataframe\">\n",
       "  <thead>\n",
       "    <tr style=\"text-align: right;\">\n",
       "      <th></th>\n",
       "      <th>bookID</th>\n",
       "      <th>ratings_count</th>\n",
       "      <th>text_reviews_count</th>\n",
       "    </tr>\n",
       "  </thead>\n",
       "  <tbody>\n",
       "    <tr>\n",
       "      <th>count</th>\n",
       "      <td>11127.000000</td>\n",
       "      <td>1.112700e+04</td>\n",
       "      <td>11127.000000</td>\n",
       "    </tr>\n",
       "    <tr>\n",
       "      <th>mean</th>\n",
       "      <td>21310.938887</td>\n",
       "      <td>1.793647e+04</td>\n",
       "      <td>541.859531</td>\n",
       "    </tr>\n",
       "    <tr>\n",
       "      <th>std</th>\n",
       "      <td>13093.358023</td>\n",
       "      <td>1.124794e+05</td>\n",
       "      <td>2576.175586</td>\n",
       "    </tr>\n",
       "    <tr>\n",
       "      <th>min</th>\n",
       "      <td>1.000000</td>\n",
       "      <td>0.000000e+00</td>\n",
       "      <td>0.000000</td>\n",
       "    </tr>\n",
       "    <tr>\n",
       "      <th>25%</th>\n",
       "      <td>10287.000000</td>\n",
       "      <td>1.040000e+02</td>\n",
       "      <td>9.000000</td>\n",
       "    </tr>\n",
       "    <tr>\n",
       "      <th>50%</th>\n",
       "      <td>20287.000000</td>\n",
       "      <td>7.450000e+02</td>\n",
       "      <td>46.000000</td>\n",
       "    </tr>\n",
       "    <tr>\n",
       "      <th>75%</th>\n",
       "      <td>32104.500000</td>\n",
       "      <td>4.993500e+03</td>\n",
       "      <td>237.500000</td>\n",
       "    </tr>\n",
       "    <tr>\n",
       "      <th>max</th>\n",
       "      <td>45641.000000</td>\n",
       "      <td>4.597666e+06</td>\n",
       "      <td>94265.000000</td>\n",
       "    </tr>\n",
       "  </tbody>\n",
       "</table>\n",
       "</div>"
      ],
      "text/plain": [
       "             bookID  ratings_count  text_reviews_count\n",
       "count  11127.000000   1.112700e+04        11127.000000\n",
       "mean   21310.938887   1.793647e+04          541.859531\n",
       "std    13093.358023   1.124794e+05         2576.175586\n",
       "min        1.000000   0.000000e+00            0.000000\n",
       "25%    10287.000000   1.040000e+02            9.000000\n",
       "50%    20287.000000   7.450000e+02           46.000000\n",
       "75%    32104.500000   4.993500e+03          237.500000\n",
       "max    45641.000000   4.597666e+06        94265.000000"
      ]
     },
     "execution_count": 7,
     "metadata": {},
     "output_type": "execute_result"
    }
   ],
   "source": [
    "data.describe()"
   ]
  },
  {
   "cell_type": "code",
   "execution_count": 8,
   "metadata": {},
   "outputs": [
    {
     "data": {
      "text/plain": [
       "array(['Harry Potter and the Half-Blood Prince (Harry Potter  #6)',\n",
       "       'Harry Potter and the Order of the Phoenix (Harry Potter  #5)',\n",
       "       'Harry Potter and the Chamber of Secrets (Harry Potter  #2)', ...,\n",
       "       'The Ice-Shirt (Seven Dreams #1)', 'Poor People',\n",
       "       'Las aventuras de Tom Sawyer'], dtype=object)"
      ]
     },
     "execution_count": 8,
     "metadata": {},
     "output_type": "execute_result"
    }
   ],
   "source": [
    "data['title'].unique()"
   ]
  },
  {
   "cell_type": "code",
   "execution_count": 9,
   "metadata": {},
   "outputs": [
    {
     "data": {
      "text/plain": [
       "array(['J.K. Rowling/Mary GrandPrÃ©', 'J.K. Rowling',\n",
       "       'W. Frederick Zimmerman', ..., 'C.S. Lewis/Ana FalcÃ£o Bastos',\n",
       "       'C.S. Lewis/Pauline Baynes/Ana FalcÃ£o Bastos',\n",
       "       'William T. Vollmann/Larry McCaffery/Michael Hemmingson'],\n",
       "      dtype=object)"
      ]
     },
     "execution_count": 9,
     "metadata": {},
     "output_type": "execute_result"
    }
   ],
   "source": [
    "data['authors'].unique()"
   ]
  },
  {
   "cell_type": "code",
   "execution_count": 10,
   "metadata": {},
   "outputs": [
    {
     "data": {
      "text/plain": [
       "array(['Scholastic Inc.', 'Scholastic', 'Nimble Books', ..., 'Suma',\n",
       "       'Panamericana Editorial', 'Editorial PresenÃ§a'], dtype=object)"
      ]
     },
     "execution_count": 10,
     "metadata": {},
     "output_type": "execute_result"
    }
   ],
   "source": [
    "data['publisher'].unique()"
   ]
  },
  {
   "cell_type": "code",
   "execution_count": 11,
   "metadata": {},
   "outputs": [],
   "source": [
    "data.drop_duplicates(['bookID','title'],inplace=True)"
   ]
  },
  {
   "cell_type": "code",
   "execution_count": 12,
   "metadata": {},
   "outputs": [
    {
     "data": {
      "text/plain": [
       "(11127, 13)"
      ]
     },
     "execution_count": 12,
     "metadata": {},
     "output_type": "execute_result"
    }
   ],
   "source": [
    "data.shape"
   ]
  },
  {
   "cell_type": "code",
   "execution_count": 13,
   "metadata": {},
   "outputs": [],
   "source": [
    "data['bookID'] = data['bookID'].astype('int64')\n",
    "data['title'] = data['title'].astype('str')\n",
    "data['publisher'] = data['publisher'].astype('str')\n"
   ]
  },
  {
   "cell_type": "code",
   "execution_count": 14,
   "metadata": {},
   "outputs": [
    {
     "name": "stdout",
     "output_type": "stream",
     "text": [
      "[4.57 4.49 4.42 4.56 4.78 3.74 4.73 4.38 4.22 4.21 3.44 3.87 4.07 3.9 3.83\n",
      " 3.86 3.91 3.93 4.59 4.5 4.36 4.53 3.84 3.72 4 3.88 4.33 3.45 3.76 3.6\n",
      " 4.06 4.17 3.55 3.98 4.13 3.95 4.24 4.34 3.92 4.23 3.75 3.94 3.77 4.46\n",
      " 3.68 3.99 3.25 3.89 3.82 3.78 4.01 4.35 4.28 3.34 3.67 3.48 3.5 3.62 4.27\n",
      " 3.39 4.12 4.08 4.05 3.85 2.99 4.19 3.71 4.2 3.65 3.4 4.11 3.42 4.02 3.69\n",
      " 4.1 3.66 4.61 4.04 3.97 4.14 3.57 3.43 3.22 3.64 3.96 3.8 3.81 3.79 3.23\n",
      " 4.15 4.39 4.03 3.73 3.51 3.63 3.09 3.59 4.29 0 4.25 4.26 3.61 4.16 4.55\n",
      " 4.52 3.41 4.7 4.18 3.58 4.51 3.15 3.31 4.09 3.49 3.56 4.47 4.44 3.7 4.32\n",
      " 4.4 4.31 4.43 2.8 3.46 2.83 4.62 2.67 4.45 4.3 5 3.1 3.08 3.27 3.33 3\n",
      " 4.67 4.63 3.52 3.36 3.54 3.17 4.37 3.29 4.64 3.38 3.37 3.16 3.53 2.88\n",
      " 2.98 3.35 3.3 3.24 4.41 4.48 4.54 4.6 3.32 3.13 2 3.2 4.58 2.82 3.28 2.62\n",
      " 2.92 3.47 3.02 1 3.14 3.12 3.18 2.86 3.26 3.19 3.03 3.07 3.11 4.91 2.55\n",
      " 2.81 4.75\n",
      " ' one of the founding members of this Tolkien website)/Verlyn Flieger/Turgon (=David E. Smith)'\n",
      " 3.21 4.71 4.8 2.72 2.79 2.96 2.75 ' Rawles' 4.86 4.65 2.5 4.82 4.76 4.72\n",
      " 4.69 1.67 3.06 2.94 2.89 3.04 2.4 2.61 ' Son & Ferguson' 2.77 2.63 4.88\n",
      " 4.83 2.93 2.33]\n"
     ]
    }
   ],
   "source": [
    "print(data['average_rating'].unique())\n"
   ]
  },
  {
   "cell_type": "code",
   "execution_count": 15,
   "metadata": {},
   "outputs": [],
   "source": [
    "row_index1 = data.index[data['average_rating'] == ' one of the founding members of this Tolkien website)/Verlyn Flieger/Turgon (=David E. Smith)']\n",
    "row_index2 = data.index[data['average_rating'] == ' Rawles']\n",
    "row_index3 = data.index[data['average_rating'] == ' Son & Ferguson']\n"
   ]
  },
  {
   "cell_type": "code",
   "execution_count": 16,
   "metadata": {},
   "outputs": [
    {
     "data": {
      "text/html": [
       "<div>\n",
       "<style scoped>\n",
       "    .dataframe tbody tr th:only-of-type {\n",
       "        vertical-align: middle;\n",
       "    }\n",
       "\n",
       "    .dataframe tbody tr th {\n",
       "        vertical-align: top;\n",
       "    }\n",
       "\n",
       "    .dataframe thead th {\n",
       "        text-align: right;\n",
       "    }\n",
       "</style>\n",
       "<table border=\"1\" class=\"dataframe\">\n",
       "  <thead>\n",
       "    <tr style=\"text-align: right;\">\n",
       "      <th></th>\n",
       "      <th>bookID</th>\n",
       "      <th>title</th>\n",
       "      <th>authors</th>\n",
       "      <th>average_rating</th>\n",
       "      <th>isbn</th>\n",
       "      <th>isbn13</th>\n",
       "      <th>language_code</th>\n",
       "      <th>num_pages</th>\n",
       "      <th>ratings_count</th>\n",
       "      <th>text_reviews_count</th>\n",
       "      <th>publication_date</th>\n",
       "      <th>publisher</th>\n",
       "      <th>Unnamed: 12</th>\n",
       "    </tr>\n",
       "  </thead>\n",
       "  <tbody>\n",
       "    <tr>\n",
       "      <th>4702</th>\n",
       "      <td>16914</td>\n",
       "      <td>The Tolkien Fan's Medieval Reader</td>\n",
       "      <td>David E. Smith (Turgon of TheOneRing.net</td>\n",
       "      <td>one of the founding members of this Tolkien w...</td>\n",
       "      <td>3.58</td>\n",
       "      <td>1593600119</td>\n",
       "      <td>9780000000000</td>\n",
       "      <td>eng</td>\n",
       "      <td>400</td>\n",
       "      <td>26</td>\n",
       "      <td>4</td>\n",
       "      <td>2004-04-06 00:00:00</td>\n",
       "      <td>Cold Spring Press</td>\n",
       "    </tr>\n",
       "  </tbody>\n",
       "</table>\n",
       "</div>"
      ],
      "text/plain": [
       "      bookID                              title  \\\n",
       "4702   16914  The Tolkien Fan's Medieval Reader   \n",
       "\n",
       "                                       authors  \\\n",
       "4702  David E. Smith (Turgon of TheOneRing.net   \n",
       "\n",
       "                                         average_rating  isbn      isbn13  \\\n",
       "4702   one of the founding members of this Tolkien w...  3.58  1593600119   \n",
       "\n",
       "      language_code num_pages  ratings_count  text_reviews_count  \\\n",
       "4702  9780000000000       eng            400                  26   \n",
       "\n",
       "     publication_date            publisher        Unnamed: 12  \n",
       "4702                4  2004-04-06 00:00:00  Cold Spring Press  "
      ]
     },
     "execution_count": 16,
     "metadata": {},
     "output_type": "execute_result"
    }
   ],
   "source": [
    "data.loc[row_index1]"
   ]
  },
  {
   "cell_type": "code",
   "execution_count": 17,
   "metadata": {},
   "outputs": [],
   "source": [
    "data.drop(row_index1,inplace=True)\n",
    "data.drop(row_index2,inplace=True)\n",
    "data.drop(row_index3,inplace=True)\n"
   ]
  },
  {
   "cell_type": "code",
   "execution_count": 18,
   "metadata": {},
   "outputs": [],
   "source": [
    "data['average_rating'] = data['average_rating'].astype('float')"
   ]
  },
  {
   "cell_type": "markdown",
   "metadata": {},
   "source": [
    "# Data Visualisation"
   ]
  },
  {
   "cell_type": "markdown",
   "metadata": {},
   "source": [
    "# Finding overall count of publishers for the entire data"
   ]
  },
  {
   "cell_type": "code",
   "execution_count": 19,
   "metadata": {},
   "outputs": [
    {
     "data": {
      "text/plain": [
       "<Axes: xlabel='publisher', ylabel='count'>"
      ]
     },
     "execution_count": 19,
     "metadata": {},
     "output_type": "execute_result"
    },
    {
     "name": "stderr",
     "output_type": "stream",
     "text": [
      "c:\\Users\\shree\\AppData\\Local\\Programs\\Python\\Python311\\Lib\\site-packages\\IPython\\core\\events.py:82: UserWarning: Glyph 144 (\\x90) missing from current font.\n",
      "  func(*args, **kwargs)\n",
      "c:\\Users\\shree\\AppData\\Local\\Programs\\Python\\Python311\\Lib\\site-packages\\IPython\\core\\events.py:82: UserWarning: Glyph 143 (\\x8f) missing from current font.\n",
      "  func(*args, **kwargs)\n",
      "c:\\Users\\shree\\AppData\\Local\\Programs\\Python\\Python311\\Lib\\site-packages\\IPython\\core\\events.py:82: UserWarning: Glyph 141 (\\x8d) missing from current font.\n",
      "  func(*args, **kwargs)\n",
      "c:\\Users\\shree\\AppData\\Local\\Programs\\Python\\Python311\\Lib\\site-packages\\IPython\\core\\events.py:82: UserWarning: Glyph 129 (\\x81) missing from current font.\n",
      "  func(*args, **kwargs)\n",
      "c:\\Users\\shree\\AppData\\Local\\Programs\\Python\\Python311\\Lib\\site-packages\\IPython\\core\\events.py:82: UserWarning: Glyph 157 (\\x9d) missing from current font.\n",
      "  func(*args, **kwargs)\n",
      "c:\\Users\\shree\\AppData\\Local\\Programs\\Python\\Python311\\Lib\\site-packages\\IPython\\core\\pylabtools.py:152: UserWarning: Glyph 144 (\\x90) missing from current font.\n",
      "  fig.canvas.print_figure(bytes_io, **kw)\n",
      "c:\\Users\\shree\\AppData\\Local\\Programs\\Python\\Python311\\Lib\\site-packages\\IPython\\core\\pylabtools.py:152: UserWarning: Glyph 143 (\\x8f) missing from current font.\n",
      "  fig.canvas.print_figure(bytes_io, **kw)\n",
      "c:\\Users\\shree\\AppData\\Local\\Programs\\Python\\Python311\\Lib\\site-packages\\IPython\\core\\pylabtools.py:152: UserWarning: Glyph 141 (\\x8d) missing from current font.\n",
      "  fig.canvas.print_figure(bytes_io, **kw)\n",
      "c:\\Users\\shree\\AppData\\Local\\Programs\\Python\\Python311\\Lib\\site-packages\\IPython\\core\\pylabtools.py:152: UserWarning: Glyph 129 (\\x81) missing from current font.\n",
      "  fig.canvas.print_figure(bytes_io, **kw)\n",
      "c:\\Users\\shree\\AppData\\Local\\Programs\\Python\\Python311\\Lib\\site-packages\\IPython\\core\\pylabtools.py:152: UserWarning: Glyph 157 (\\x9d) missing from current font.\n",
      "  fig.canvas.print_figure(bytes_io, **kw)\n"
     ]
    },
    {
     "data": {
      "image/png": "[encoded data removed]",
      "text/plain": [
       "<Figure size 2000x400 with 1 Axes>"
      ]
     },
     "metadata": {},
     "output_type": "display_data"
    }
   ],
   "source": [
    "fig_dims=(20,4)\n",
    "fig, ax=plt.subplots(figsize=fig_dims)\n",
    "sns.countplot(x='publisher', ax=ax, data=data)"
   ]
  },
  {
   "cell_type": "markdown",
   "metadata": {},
   "source": [
    "# Finding overall count of publishers for the the first 50 rows for better visualization"
   ]
  },
  {
   "cell_type": "code",
   "execution_count": 20,
   "metadata": {},
   "outputs": [
    {
     "data": {
      "text/plain": [
       "<Axes: xlabel='publisher', ylabel='count'>"
      ]
     },
     "execution_count": 20,
     "metadata": {},
     "output_type": "execute_result"
    },
    {
     "data": {
      "image/png": "[encoded data removed]",
      "text/plain": [
       "<Figure size 2000x400 with 1 Axes>"
      ]
     },
     "metadata": {},
     "output_type": "display_data"
    }
   ],
   "source": [
    "data_visualise=data.head(50)\n",
    "fig_dims=(20,4)\n",
    "fig, ax=plt.subplots(figsize=fig_dims)\n",
    "sns.countplot(x='publisher', ax=ax, data=data_visualise)"
   ]
  },
  {
   "cell_type": "markdown",
   "metadata": {},
   "source": [
    "# Finding maximum and minimum attributes"
   ]
  },
  {
   "cell_type": "code",
   "execution_count": 21,
   "metadata": {},
   "outputs": [
    {
     "data": {
      "text/plain": [
       "bookID                                                  41890\n",
       "title                           Who Wants a Cheap Rhinoceros?\n",
       "authors                                      Shel Silverstein\n",
       "average_rating                                           3.96\n",
       "isbn                                                689851138\n",
       "isbn13                                          9780000000000\n",
       "language_code                                             eng\n",
       "num_pages                                                  64\n",
       "ratings_count                                            1907\n",
       "text_reviews_count                                        124\n",
       "publication_date                          2002-08-01 00:00:00\n",
       "publisher             Simon  Schuster Books for Young Readers\n",
       "Unnamed: 12                                               NaN\n",
       "Name: 10343, dtype: object"
      ]
     },
     "execution_count": 21,
     "metadata": {},
     "output_type": "execute_result"
    }
   ],
   "source": [
    "data.iloc[data['ratings_count'].idxmax()]"
   ]
  },
  {
   "cell_type": "code",
   "execution_count": 22,
   "metadata": {},
   "outputs": [
    {
     "data": {
      "text/plain": [
       "bookID                                                      797\n",
       "title                                     Lonely Planet Londres\n",
       "authors               Lonely Planet/Sarah Johnstone/Tom Masters\n",
       "average_rating                                             4.03\n",
       "isbn                                                 8408064762\n",
       "isbn13                                            9790000000000\n",
       "language_code                                               spa\n",
       "num_pages                                                   480\n",
       "ratings_count                                                 0\n",
       "text_reviews_count                                            0\n",
       "publication_date                            2006-05-01 00:00:00\n",
       "publisher                                            Geoplaneta\n",
       "Unnamed: 12                                                 NaN\n",
       "Name: 264, dtype: object"
      ]
     },
     "execution_count": 22,
     "metadata": {},
     "output_type": "execute_result"
    }
   ],
   "source": [
    "data.iloc[data['ratings_count'].idxmin()]"
   ]
  },
  {
   "cell_type": "code",
   "execution_count": 23,
   "metadata": {},
   "outputs": [
    {
     "data": {
      "text/plain": [
       "bookID                                                            24524\n",
       "title                 The Final Unfinished Voyage of Jack Aubrey (Au...\n",
       "authors                                    Patrick O'Brian/Richard Snow\n",
       "average_rating                                                     3.99\n",
       "isbn                                                         039306025X\n",
       "isbn13                                                    9780000000000\n",
       "language_code                                                       eng\n",
       "num_pages                                                           144\n",
       "ratings_count                                                      2194\n",
       "text_reviews_count                                                  121\n",
       "publication_date                                    2004-10-17 00:00:00\n",
       "publisher                                         W. W. Norton  Company\n",
       "Unnamed: 12                                                         NaN\n",
       "Name: 6502, dtype: object"
      ]
     },
     "execution_count": 23,
     "metadata": {},
     "output_type": "execute_result"
    }
   ],
   "source": [
    "data.iloc[data['num_pages'].idxmax()]"
   ]
  },
  {
   "cell_type": "code",
   "execution_count": 24,
   "metadata": {},
   "outputs": [
    {
     "data": {
      "text/plain": [
       "bookID                                                              955\n",
       "title                 The 5 Love Languages / The 5 Love Languages Jo...\n",
       "authors                                                    Gary Chapman\n",
       "average_rating                                                      4.7\n",
       "isbn                                                          802415318\n",
       "isbn13                                                    9780000000000\n",
       "language_code                                                       eng\n",
       "num_pages                                                             0\n",
       "ratings_count                                                        22\n",
       "text_reviews_count                                                    4\n",
       "publication_date                                    2005-01-01 00:00:00\n",
       "publisher                                              Moody Publishers\n",
       "Unnamed: 12                                                         NaN\n",
       "Name: 306, dtype: object"
      ]
     },
     "execution_count": 24,
     "metadata": {},
     "output_type": "execute_result"
    }
   ],
   "source": [
    "data.iloc[data['num_pages'].idxmin()]"
   ]
  },
  {
   "cell_type": "markdown",
   "metadata": {},
   "source": [
    "# Finding overall count of authors for the entire data"
   ]
  },
  {
   "cell_type": "code",
   "execution_count": 25,
   "metadata": {},
   "outputs": [],
   "source": [
    "data_review=data.authors.value_counts()\n",
    "sns.barplot(y=data_review.index, x=data_review)"
   ]
  },
  {
   "cell_type": "markdown",
   "metadata": {},
   "source": [
    "# Finding overall count of authors for the the first 50 rows for better visualization"
   ]
  },
  {
   "cell_type": "code",
   "execution_count": null,
   "metadata": {},
   "outputs": [
    {
     "data": {
      "text/plain": [
       "<Axes: xlabel='count', ylabel='authors'>"
      ]
     },
     "execution_count": 113,
     "metadata": {},
     "output_type": "execute_result"
    },
    {
     "data": {
      "image/png": "[encoded data removed]",
      "text/plain": [
       "<Figure size 640x480 with 1 Axes>"
      ]
     },
     "metadata": {},
     "output_type": "display_data"
    }
   ],
   "source": [
    "data_review=data_visualise.authors.value_counts()\n",
    "sns.barplot(y=data_review.index, x=data_review) "
   ]
  },
  {
   "cell_type": "markdown",
   "metadata": {},
   "source": [
    "# Constructing Pivot table for the Recommendation System"
   ]
  },
  {
   "cell_type": "code",
   "execution_count": null,
   "metadata": {},
   "outputs": [],
   "source": [
    "book_pivot_table=data.pivot_table(columns='bookID', index='title',values='average_rating')"
   ]
  },
  {
   "cell_type": "code",
   "execution_count": null,
   "metadata": {},
   "outputs": [
    {
     "data": {
      "text/html": [
       "<div>\n",
       "<style scoped>\n",
       "    .dataframe tbody tr th:only-of-type {\n",
       "        vertical-align: middle;\n",
       "    }\n",
       "\n",
       "    .dataframe tbody tr th {\n",
       "        vertical-align: top;\n",
       "    }\n",
       "\n",
       "    .dataframe thead th {\n",
       "        text-align: right;\n",
       "    }\n",
       "</style>\n",
       "<table border=\"1\" class=\"dataframe\">\n",
       "  <thead>\n",
       "    <tr style=\"text-align: right;\">\n",
       "      <th>bookID</th>\n",
       "      <th>1</th>\n",
       "      <th>2</th>\n",
       "      <th>4</th>\n",
       "      <th>5</th>\n",
       "      <th>8</th>\n",
       "      <th>9</th>\n",
       "      <th>10</th>\n",
       "      <th>12</th>\n",
       "      <th>13</th>\n",
       "      <th>14</th>\n",
       "      <th>...</th>\n",
       "      <th>45617</th>\n",
       "      <th>45623</th>\n",
       "      <th>45625</th>\n",
       "      <th>45626</th>\n",
       "      <th>45630</th>\n",
       "      <th>45631</th>\n",
       "      <th>45633</th>\n",
       "      <th>45634</th>\n",
       "      <th>45639</th>\n",
       "      <th>45641</th>\n",
       "    </tr>\n",
       "    <tr>\n",
       "      <th>title</th>\n",
       "      <th></th>\n",
       "      <th></th>\n",
       "      <th></th>\n",
       "      <th></th>\n",
       "      <th></th>\n",
       "      <th></th>\n",
       "      <th></th>\n",
       "      <th></th>\n",
       "      <th></th>\n",
       "      <th></th>\n",
       "      <th></th>\n",
       "      <th></th>\n",
       "      <th></th>\n",
       "      <th></th>\n",
       "      <th></th>\n",
       "      <th></th>\n",
       "      <th></th>\n",
       "      <th></th>\n",
       "      <th></th>\n",
       "      <th></th>\n",
       "      <th></th>\n",
       "    </tr>\n",
       "  </thead>\n",
       "  <tbody>\n",
       "    <tr>\n",
       "      <th>said the shotgun to the head.</th>\n",
       "      <td>NaN</td>\n",
       "      <td>NaN</td>\n",
       "      <td>NaN</td>\n",
       "      <td>NaN</td>\n",
       "      <td>NaN</td>\n",
       "      <td>NaN</td>\n",
       "      <td>NaN</td>\n",
       "      <td>NaN</td>\n",
       "      <td>NaN</td>\n",
       "      <td>NaN</td>\n",
       "      <td>...</td>\n",
       "      <td>NaN</td>\n",
       "      <td>NaN</td>\n",
       "      <td>NaN</td>\n",
       "      <td>NaN</td>\n",
       "      <td>NaN</td>\n",
       "      <td>NaN</td>\n",
       "      <td>NaN</td>\n",
       "      <td>NaN</td>\n",
       "      <td>NaN</td>\n",
       "      <td>NaN</td>\n",
       "    </tr>\n",
       "    <tr>\n",
       "      <th>$30 Film School: How to Write  Direct  Produce  Shoot  Edit  Distribute  Tour With  and Sell Your Own No-Budget Digital Movie</th>\n",
       "      <td>NaN</td>\n",
       "      <td>NaN</td>\n",
       "      <td>NaN</td>\n",
       "      <td>NaN</td>\n",
       "      <td>NaN</td>\n",
       "      <td>NaN</td>\n",
       "      <td>NaN</td>\n",
       "      <td>NaN</td>\n",
       "      <td>NaN</td>\n",
       "      <td>NaN</td>\n",
       "      <td>...</td>\n",
       "      <td>NaN</td>\n",
       "      <td>NaN</td>\n",
       "      <td>NaN</td>\n",
       "      <td>NaN</td>\n",
       "      <td>NaN</td>\n",
       "      <td>NaN</td>\n",
       "      <td>NaN</td>\n",
       "      <td>NaN</td>\n",
       "      <td>NaN</td>\n",
       "      <td>NaN</td>\n",
       "    </tr>\n",
       "    <tr>\n",
       "      <th>'Salem's Lot</th>\n",
       "      <td>NaN</td>\n",
       "      <td>NaN</td>\n",
       "      <td>NaN</td>\n",
       "      <td>NaN</td>\n",
       "      <td>NaN</td>\n",
       "      <td>NaN</td>\n",
       "      <td>NaN</td>\n",
       "      <td>NaN</td>\n",
       "      <td>NaN</td>\n",
       "      <td>NaN</td>\n",
       "      <td>...</td>\n",
       "      <td>NaN</td>\n",
       "      <td>NaN</td>\n",
       "      <td>NaN</td>\n",
       "      <td>NaN</td>\n",
       "      <td>NaN</td>\n",
       "      <td>NaN</td>\n",
       "      <td>NaN</td>\n",
       "      <td>NaN</td>\n",
       "      <td>NaN</td>\n",
       "      <td>NaN</td>\n",
       "    </tr>\n",
       "    <tr>\n",
       "      <th>1 000 Places to See Before You Die</th>\n",
       "      <td>NaN</td>\n",
       "      <td>NaN</td>\n",
       "      <td>NaN</td>\n",
       "      <td>NaN</td>\n",
       "      <td>NaN</td>\n",
       "      <td>NaN</td>\n",
       "      <td>NaN</td>\n",
       "      <td>NaN</td>\n",
       "      <td>NaN</td>\n",
       "      <td>NaN</td>\n",
       "      <td>...</td>\n",
       "      <td>NaN</td>\n",
       "      <td>NaN</td>\n",
       "      <td>NaN</td>\n",
       "      <td>NaN</td>\n",
       "      <td>NaN</td>\n",
       "      <td>NaN</td>\n",
       "      <td>NaN</td>\n",
       "      <td>NaN</td>\n",
       "      <td>NaN</td>\n",
       "      <td>NaN</td>\n",
       "    </tr>\n",
       "    <tr>\n",
       "      <th>10 lb Penalty</th>\n",
       "      <td>NaN</td>\n",
       "      <td>NaN</td>\n",
       "      <td>NaN</td>\n",
       "      <td>NaN</td>\n",
       "      <td>NaN</td>\n",
       "      <td>NaN</td>\n",
       "      <td>NaN</td>\n",
       "      <td>NaN</td>\n",
       "      <td>NaN</td>\n",
       "      <td>NaN</td>\n",
       "      <td>...</td>\n",
       "      <td>NaN</td>\n",
       "      <td>NaN</td>\n",
       "      <td>NaN</td>\n",
       "      <td>NaN</td>\n",
       "      <td>NaN</td>\n",
       "      <td>NaN</td>\n",
       "      <td>NaN</td>\n",
       "      <td>NaN</td>\n",
       "      <td>NaN</td>\n",
       "      <td>NaN</td>\n",
       "    </tr>\n",
       "    <tr>\n",
       "      <th>...</th>\n",
       "      <td>...</td>\n",
       "      <td>...</td>\n",
       "      <td>...</td>\n",
       "      <td>...</td>\n",
       "      <td>...</td>\n",
       "      <td>...</td>\n",
       "      <td>...</td>\n",
       "      <td>...</td>\n",
       "      <td>...</td>\n",
       "      <td>...</td>\n",
       "      <td>...</td>\n",
       "      <td>...</td>\n",
       "      <td>...</td>\n",
       "      <td>...</td>\n",
       "      <td>...</td>\n",
       "      <td>...</td>\n",
       "      <td>...</td>\n",
       "      <td>...</td>\n",
       "      <td>...</td>\n",
       "      <td>...</td>\n",
       "      <td>...</td>\n",
       "    </tr>\n",
       "    <tr>\n",
       "      <th>é‹¼ä¹‹éŠé‡‘è¡“å¸« 4</th>\n",
       "      <td>NaN</td>\n",
       "      <td>NaN</td>\n",
       "      <td>NaN</td>\n",
       "      <td>NaN</td>\n",
       "      <td>NaN</td>\n",
       "      <td>NaN</td>\n",
       "      <td>NaN</td>\n",
       "      <td>NaN</td>\n",
       "      <td>NaN</td>\n",
       "      <td>NaN</td>\n",
       "      <td>...</td>\n",
       "      <td>NaN</td>\n",
       "      <td>NaN</td>\n",
       "      <td>NaN</td>\n",
       "      <td>NaN</td>\n",
       "      <td>NaN</td>\n",
       "      <td>NaN</td>\n",
       "      <td>NaN</td>\n",
       "      <td>NaN</td>\n",
       "      <td>NaN</td>\n",
       "      <td>NaN</td>\n",
       "    </tr>\n",
       "    <tr>\n",
       "      <th>é‹¼ä¹‹éŠé‡‘è¡“å¸« 5</th>\n",
       "      <td>NaN</td>\n",
       "      <td>NaN</td>\n",
       "      <td>NaN</td>\n",
       "      <td>NaN</td>\n",
       "      <td>NaN</td>\n",
       "      <td>NaN</td>\n",
       "      <td>NaN</td>\n",
       "      <td>NaN</td>\n",
       "      <td>NaN</td>\n",
       "      <td>NaN</td>\n",
       "      <td>...</td>\n",
       "      <td>NaN</td>\n",
       "      <td>NaN</td>\n",
       "      <td>NaN</td>\n",
       "      <td>NaN</td>\n",
       "      <td>NaN</td>\n",
       "      <td>NaN</td>\n",
       "      <td>NaN</td>\n",
       "      <td>NaN</td>\n",
       "      <td>NaN</td>\n",
       "      <td>NaN</td>\n",
       "    </tr>\n",
       "    <tr>\n",
       "      <th>é‹¼ä¹‹éŠé‡‘è¡“å¸« 6</th>\n",
       "      <td>NaN</td>\n",
       "      <td>NaN</td>\n",
       "      <td>NaN</td>\n",
       "      <td>NaN</td>\n",
       "      <td>NaN</td>\n",
       "      <td>NaN</td>\n",
       "      <td>NaN</td>\n",
       "      <td>NaN</td>\n",
       "      <td>NaN</td>\n",
       "      <td>NaN</td>\n",
       "      <td>...</td>\n",
       "      <td>NaN</td>\n",
       "      <td>NaN</td>\n",
       "      <td>NaN</td>\n",
       "      <td>NaN</td>\n",
       "      <td>NaN</td>\n",
       "      <td>NaN</td>\n",
       "      <td>NaN</td>\n",
       "      <td>NaN</td>\n",
       "      <td>NaN</td>\n",
       "      <td>NaN</td>\n",
       "    </tr>\n",
       "    <tr>\n",
       "      <th>é‹¼ä¹‹éŠé‡‘è¡“å¸« 7</th>\n",
       "      <td>NaN</td>\n",
       "      <td>NaN</td>\n",
       "      <td>NaN</td>\n",
       "      <td>NaN</td>\n",
       "      <td>NaN</td>\n",
       "      <td>NaN</td>\n",
       "      <td>NaN</td>\n",
       "      <td>NaN</td>\n",
       "      <td>NaN</td>\n",
       "      <td>NaN</td>\n",
       "      <td>...</td>\n",
       "      <td>NaN</td>\n",
       "      <td>NaN</td>\n",
       "      <td>NaN</td>\n",
       "      <td>NaN</td>\n",
       "      <td>NaN</td>\n",
       "      <td>NaN</td>\n",
       "      <td>NaN</td>\n",
       "      <td>NaN</td>\n",
       "      <td>NaN</td>\n",
       "      <td>NaN</td>\n",
       "    </tr>\n",
       "    <tr>\n",
       "      <th>é‹¼ä¹‹éŠé‡‘è¡“å¸« 9</th>\n",
       "      <td>NaN</td>\n",
       "      <td>NaN</td>\n",
       "      <td>NaN</td>\n",
       "      <td>NaN</td>\n",
       "      <td>NaN</td>\n",
       "      <td>NaN</td>\n",
       "      <td>NaN</td>\n",
       "      <td>NaN</td>\n",
       "      <td>NaN</td>\n",
       "      <td>NaN</td>\n",
       "      <td>...</td>\n",
       "      <td>NaN</td>\n",
       "      <td>NaN</td>\n",
       "      <td>NaN</td>\n",
       "      <td>NaN</td>\n",
       "      <td>NaN</td>\n",
       "      <td>NaN</td>\n",
       "      <td>NaN</td>\n",
       "      <td>NaN</td>\n",
       "      <td>NaN</td>\n",
       "      <td>NaN</td>\n",
       "    </tr>\n",
       "  </tbody>\n",
       "</table>\n",
       "<p>10349 rows × 11124 columns</p>\n",
       "</div>"
      ],
      "text/plain": [
       "bookID                                              1      2      4      \\\n",
       "title                                                                     \n",
       "  said the shotgun to the head.                       NaN    NaN    NaN   \n",
       "$30 Film School: How to Write  Direct  Produce ...    NaN    NaN    NaN   \n",
       "'Salem's Lot                                          NaN    NaN    NaN   \n",
       "1 000 Places to See Before You Die                    NaN    NaN    NaN   \n",
       "10 lb Penalty                                         NaN    NaN    NaN   \n",
       "...                                                   ...    ...    ...   \n",
       "é‹¼ä¹‹éŠé‡‘è¡“å¸« 4                                  NaN    NaN    NaN   \n",
       "é‹¼ä¹‹éŠé‡‘è¡“å¸« 5                                  NaN    NaN    NaN   \n",
       "é‹¼ä¹‹éŠé‡‘è¡“å¸« 6                                  NaN    NaN    NaN   \n",
       "é‹¼ä¹‹éŠé‡‘è¡“å¸« 7                                  NaN    NaN    NaN   \n",
       "é‹¼ä¹‹éŠé‡‘è¡“å¸« 9                                  NaN    NaN    NaN   \n",
       "\n",
       "bookID                                              5      8      9      \\\n",
       "title                                                                     \n",
       "  said the shotgun to the head.                       NaN    NaN    NaN   \n",
       "$30 Film School: How to Write  Direct  Produce ...    NaN    NaN    NaN   \n",
       "'Salem's Lot                                          NaN    NaN    NaN   \n",
       "1 000 Places to See Before You Die                    NaN    NaN    NaN   \n",
       "10 lb Penalty                                         NaN    NaN    NaN   \n",
       "...                                                   ...    ...    ...   \n",
       "é‹¼ä¹‹éŠé‡‘è¡“å¸« 4                                  NaN    NaN    NaN   \n",
       "é‹¼ä¹‹éŠé‡‘è¡“å¸« 5                                  NaN    NaN    NaN   \n",
       "é‹¼ä¹‹éŠé‡‘è¡“å¸« 6                                  NaN    NaN    NaN   \n",
       "é‹¼ä¹‹éŠé‡‘è¡“å¸« 7                                  NaN    NaN    NaN   \n",
       "é‹¼ä¹‹éŠé‡‘è¡“å¸« 9                                  NaN    NaN    NaN   \n",
       "\n",
       "bookID                                              10     12     13     \\\n",
       "title                                                                     \n",
       "  said the shotgun to the head.                       NaN    NaN    NaN   \n",
       "$30 Film School: How to Write  Direct  Produce ...    NaN    NaN    NaN   \n",
       "'Salem's Lot                                          NaN    NaN    NaN   \n",
       "1 000 Places to See Before You Die                    NaN    NaN    NaN   \n",
       "10 lb Penalty                                         NaN    NaN    NaN   \n",
       "...                                                   ...    ...    ...   \n",
       "é‹¼ä¹‹éŠé‡‘è¡“å¸« 4                                  NaN    NaN    NaN   \n",
       "é‹¼ä¹‹éŠé‡‘è¡“å¸« 5                                  NaN    NaN    NaN   \n",
       "é‹¼ä¹‹éŠé‡‘è¡“å¸« 6                                  NaN    NaN    NaN   \n",
       "é‹¼ä¹‹éŠé‡‘è¡“å¸« 7                                  NaN    NaN    NaN   \n",
       "é‹¼ä¹‹éŠé‡‘è¡“å¸« 9                                  NaN    NaN    NaN   \n",
       "\n",
       "bookID                                              14     ...  45617  45623  \\\n",
       "title                                                      ...                 \n",
       "  said the shotgun to the head.                       NaN  ...    NaN    NaN   \n",
       "$30 Film School: How to Write  Direct  Produce ...    NaN  ...    NaN    NaN   \n",
       "'Salem's Lot                                          NaN  ...    NaN    NaN   \n",
       "1 000 Places to See Before You Die                    NaN  ...    NaN    NaN   \n",
       "10 lb Penalty                                         NaN  ...    NaN    NaN   \n",
       "...                                                   ...  ...    ...    ...   \n",
       "é‹¼ä¹‹éŠé‡‘è¡“å¸« 4                                  NaN  ...    NaN    NaN   \n",
       "é‹¼ä¹‹éŠé‡‘è¡“å¸« 5                                  NaN  ...    NaN    NaN   \n",
       "é‹¼ä¹‹éŠé‡‘è¡“å¸« 6                                  NaN  ...    NaN    NaN   \n",
       "é‹¼ä¹‹éŠé‡‘è¡“å¸« 7                                  NaN  ...    NaN    NaN   \n",
       "é‹¼ä¹‹éŠé‡‘è¡“å¸« 9                                  NaN  ...    NaN    NaN   \n",
       "\n",
       "bookID                                              45625  45626  45630  \\\n",
       "title                                                                     \n",
       "  said the shotgun to the head.                       NaN    NaN    NaN   \n",
       "$30 Film School: How to Write  Direct  Produce ...    NaN    NaN    NaN   \n",
       "'Salem's Lot                                          NaN    NaN    NaN   \n",
       "1 000 Places to See Before You Die                    NaN    NaN    NaN   \n",
       "10 lb Penalty                                         NaN    NaN    NaN   \n",
       "...                                                   ...    ...    ...   \n",
       "é‹¼ä¹‹éŠé‡‘è¡“å¸« 4                                  NaN    NaN    NaN   \n",
       "é‹¼ä¹‹éŠé‡‘è¡“å¸« 5                                  NaN    NaN    NaN   \n",
       "é‹¼ä¹‹éŠé‡‘è¡“å¸« 6                                  NaN    NaN    NaN   \n",
       "é‹¼ä¹‹éŠé‡‘è¡“å¸« 7                                  NaN    NaN    NaN   \n",
       "é‹¼ä¹‹éŠé‡‘è¡“å¸« 9                                  NaN    NaN    NaN   \n",
       "\n",
       "bookID                                              45631  45633  45634  \\\n",
       "title                                                                     \n",
       "  said the shotgun to the head.                       NaN    NaN    NaN   \n",
       "$30 Film School: How to Write  Direct  Produce ...    NaN    NaN    NaN   \n",
       "'Salem's Lot                                          NaN    NaN    NaN   \n",
       "1 000 Places to See Before You Die                    NaN    NaN    NaN   \n",
       "10 lb Penalty                                         NaN    NaN    NaN   \n",
       "...                                                   ...    ...    ...   \n",
       "é‹¼ä¹‹éŠé‡‘è¡“å¸« 4                                  NaN    NaN    NaN   \n",
       "é‹¼ä¹‹éŠé‡‘è¡“å¸« 5                                  NaN    NaN    NaN   \n",
       "é‹¼ä¹‹éŠé‡‘è¡“å¸« 6                                  NaN    NaN    NaN   \n",
       "é‹¼ä¹‹éŠé‡‘è¡“å¸« 7                                  NaN    NaN    NaN   \n",
       "é‹¼ä¹‹éŠé‡‘è¡“å¸« 9                                  NaN    NaN    NaN   \n",
       "\n",
       "bookID                                              45639  45641  \n",
       "title                                                             \n",
       "  said the shotgun to the head.                       NaN    NaN  \n",
       "$30 Film School: How to Write  Direct  Produce ...    NaN    NaN  \n",
       "'Salem's Lot                                          NaN    NaN  \n",
       "1 000 Places to See Before You Die                    NaN    NaN  \n",
       "10 lb Penalty                                         NaN    NaN  \n",
       "...                                                   ...    ...  \n",
       "é‹¼ä¹‹éŠé‡‘è¡“å¸« 4                                  NaN    NaN  \n",
       "é‹¼ä¹‹éŠé‡‘è¡“å¸« 5                                  NaN    NaN  \n",
       "é‹¼ä¹‹éŠé‡‘è¡“å¸« 6                                  NaN    NaN  \n",
       "é‹¼ä¹‹éŠé‡‘è¡“å¸« 7                                  NaN    NaN  \n",
       "é‹¼ä¹‹éŠé‡‘è¡“å¸« 9                                  NaN    NaN  \n",
       "\n",
       "[10349 rows x 11124 columns]"
      ]
     },
     "execution_count": 56,
     "metadata": {},
     "output_type": "execute_result"
    }
   ],
   "source": [
    "book_pivot_table"
   ]
  },
  {
   "cell_type": "code",
   "execution_count": null,
   "metadata": {},
   "outputs": [
    {
     "data": {
      "text/plain": [
       "(10349, 11124)"
      ]
     },
     "execution_count": 57,
     "metadata": {},
     "output_type": "execute_result"
    }
   ],
   "source": [
    "book_pivot_table.shape"
   ]
  },
  {
   "cell_type": "code",
   "execution_count": null,
   "metadata": {},
   "outputs": [],
   "source": [
    "book_pivot_table.fillna(0,inplace=True)"
   ]
  },
  {
   "cell_type": "code",
   "execution_count": null,
   "metadata": {},
   "outputs": [
    {
     "data": {
      "text/html": [
       "<div>\n",
       "<style scoped>\n",
       "    .dataframe tbody tr th:only-of-type {\n",
       "        vertical-align: middle;\n",
       "    }\n",
       "\n",
       "    .dataframe tbody tr th {\n",
       "        vertical-align: top;\n",
       "    }\n",
       "\n",
       "    .dataframe thead th {\n",
       "        text-align: right;\n",
       "    }\n",
       "</style>\n",
       "<table border=\"1\" class=\"dataframe\">\n",
       "  <thead>\n",
       "    <tr style=\"text-align: right;\">\n",
       "      <th>bookID</th>\n",
       "      <th>1</th>\n",
       "      <th>2</th>\n",
       "      <th>4</th>\n",
       "      <th>5</th>\n",
       "      <th>8</th>\n",
       "      <th>9</th>\n",
       "      <th>10</th>\n",
       "      <th>12</th>\n",
       "      <th>13</th>\n",
       "      <th>14</th>\n",
       "      <th>...</th>\n",
       "      <th>45617</th>\n",
       "      <th>45623</th>\n",
       "      <th>45625</th>\n",
       "      <th>45626</th>\n",
       "      <th>45630</th>\n",
       "      <th>45631</th>\n",
       "      <th>45633</th>\n",
       "      <th>45634</th>\n",
       "      <th>45639</th>\n",
       "      <th>45641</th>\n",
       "    </tr>\n",
       "    <tr>\n",
       "      <th>title</th>\n",
       "      <th></th>\n",
       "      <th></th>\n",
       "      <th></th>\n",
       "      <th></th>\n",
       "      <th></th>\n",
       "      <th></th>\n",
       "      <th></th>\n",
       "      <th></th>\n",
       "      <th></th>\n",
       "      <th></th>\n",
       "      <th></th>\n",
       "      <th></th>\n",
       "      <th></th>\n",
       "      <th></th>\n",
       "      <th></th>\n",
       "      <th></th>\n",
       "      <th></th>\n",
       "      <th></th>\n",
       "      <th></th>\n",
       "      <th></th>\n",
       "      <th></th>\n",
       "    </tr>\n",
       "  </thead>\n",
       "  <tbody>\n",
       "    <tr>\n",
       "      <th>said the shotgun to the head.</th>\n",
       "      <td>0.0</td>\n",
       "      <td>0.0</td>\n",
       "      <td>0.0</td>\n",
       "      <td>0.0</td>\n",
       "      <td>0.0</td>\n",
       "      <td>0.0</td>\n",
       "      <td>0.0</td>\n",
       "      <td>0.0</td>\n",
       "      <td>0.0</td>\n",
       "      <td>0.0</td>\n",
       "      <td>...</td>\n",
       "      <td>0.0</td>\n",
       "      <td>0.0</td>\n",
       "      <td>0.0</td>\n",
       "      <td>0.0</td>\n",
       "      <td>0.0</td>\n",
       "      <td>0.0</td>\n",
       "      <td>0.0</td>\n",
       "      <td>0.0</td>\n",
       "      <td>0.0</td>\n",
       "      <td>0.0</td>\n",
       "    </tr>\n",
       "    <tr>\n",
       "      <th>$30 Film School: How to Write  Direct  Produce  Shoot  Edit  Distribute  Tour With  and Sell Your Own No-Budget Digital Movie</th>\n",
       "      <td>0.0</td>\n",
       "      <td>0.0</td>\n",
       "      <td>0.0</td>\n",
       "      <td>0.0</td>\n",
       "      <td>0.0</td>\n",
       "      <td>0.0</td>\n",
       "      <td>0.0</td>\n",
       "      <td>0.0</td>\n",
       "      <td>0.0</td>\n",
       "      <td>0.0</td>\n",
       "      <td>...</td>\n",
       "      <td>0.0</td>\n",
       "      <td>0.0</td>\n",
       "      <td>0.0</td>\n",
       "      <td>0.0</td>\n",
       "      <td>0.0</td>\n",
       "      <td>0.0</td>\n",
       "      <td>0.0</td>\n",
       "      <td>0.0</td>\n",
       "      <td>0.0</td>\n",
       "      <td>0.0</td>\n",
       "    </tr>\n",
       "    <tr>\n",
       "      <th>'Salem's Lot</th>\n",
       "      <td>0.0</td>\n",
       "      <td>0.0</td>\n",
       "      <td>0.0</td>\n",
       "      <td>0.0</td>\n",
       "      <td>0.0</td>\n",
       "      <td>0.0</td>\n",
       "      <td>0.0</td>\n",
       "      <td>0.0</td>\n",
       "      <td>0.0</td>\n",
       "      <td>0.0</td>\n",
       "      <td>...</td>\n",
       "      <td>0.0</td>\n",
       "      <td>0.0</td>\n",
       "      <td>0.0</td>\n",
       "      <td>0.0</td>\n",
       "      <td>0.0</td>\n",
       "      <td>0.0</td>\n",
       "      <td>0.0</td>\n",
       "      <td>0.0</td>\n",
       "      <td>0.0</td>\n",
       "      <td>0.0</td>\n",
       "    </tr>\n",
       "    <tr>\n",
       "      <th>1 000 Places to See Before You Die</th>\n",
       "      <td>0.0</td>\n",
       "      <td>0.0</td>\n",
       "      <td>0.0</td>\n",
       "      <td>0.0</td>\n",
       "      <td>0.0</td>\n",
       "      <td>0.0</td>\n",
       "      <td>0.0</td>\n",
       "      <td>0.0</td>\n",
       "      <td>0.0</td>\n",
       "      <td>0.0</td>\n",
       "      <td>...</td>\n",
       "      <td>0.0</td>\n",
       "      <td>0.0</td>\n",
       "      <td>0.0</td>\n",
       "      <td>0.0</td>\n",
       "      <td>0.0</td>\n",
       "      <td>0.0</td>\n",
       "      <td>0.0</td>\n",
       "      <td>0.0</td>\n",
       "      <td>0.0</td>\n",
       "      <td>0.0</td>\n",
       "    </tr>\n",
       "    <tr>\n",
       "      <th>10 lb Penalty</th>\n",
       "      <td>0.0</td>\n",
       "      <td>0.0</td>\n",
       "      <td>0.0</td>\n",
       "      <td>0.0</td>\n",
       "      <td>0.0</td>\n",
       "      <td>0.0</td>\n",
       "      <td>0.0</td>\n",
       "      <td>0.0</td>\n",
       "      <td>0.0</td>\n",
       "      <td>0.0</td>\n",
       "      <td>...</td>\n",
       "      <td>0.0</td>\n",
       "      <td>0.0</td>\n",
       "      <td>0.0</td>\n",
       "      <td>0.0</td>\n",
       "      <td>0.0</td>\n",
       "      <td>0.0</td>\n",
       "      <td>0.0</td>\n",
       "      <td>0.0</td>\n",
       "      <td>0.0</td>\n",
       "      <td>0.0</td>\n",
       "    </tr>\n",
       "    <tr>\n",
       "      <th>...</th>\n",
       "      <td>...</td>\n",
       "      <td>...</td>\n",
       "      <td>...</td>\n",
       "      <td>...</td>\n",
       "      <td>...</td>\n",
       "      <td>...</td>\n",
       "      <td>...</td>\n",
       "      <td>...</td>\n",
       "      <td>...</td>\n",
       "      <td>...</td>\n",
       "      <td>...</td>\n",
       "      <td>...</td>\n",
       "      <td>...</td>\n",
       "      <td>...</td>\n",
       "      <td>...</td>\n",
       "      <td>...</td>\n",
       "      <td>...</td>\n",
       "      <td>...</td>\n",
       "      <td>...</td>\n",
       "      <td>...</td>\n",
       "      <td>...</td>\n",
       "    </tr>\n",
       "    <tr>\n",
       "      <th>é‹¼ä¹‹éŠé‡‘è¡“å¸« 4</th>\n",
       "      <td>0.0</td>\n",
       "      <td>0.0</td>\n",
       "      <td>0.0</td>\n",
       "      <td>0.0</td>\n",
       "      <td>0.0</td>\n",
       "      <td>0.0</td>\n",
       "      <td>0.0</td>\n",
       "      <td>0.0</td>\n",
       "      <td>0.0</td>\n",
       "      <td>0.0</td>\n",
       "      <td>...</td>\n",
       "      <td>0.0</td>\n",
       "      <td>0.0</td>\n",
       "      <td>0.0</td>\n",
       "      <td>0.0</td>\n",
       "      <td>0.0</td>\n",
       "      <td>0.0</td>\n",
       "      <td>0.0</td>\n",
       "      <td>0.0</td>\n",
       "      <td>0.0</td>\n",
       "      <td>0.0</td>\n",
       "    </tr>\n",
       "    <tr>\n",
       "      <th>é‹¼ä¹‹éŠé‡‘è¡“å¸« 5</th>\n",
       "      <td>0.0</td>\n",
       "      <td>0.0</td>\n",
       "      <td>0.0</td>\n",
       "      <td>0.0</td>\n",
       "      <td>0.0</td>\n",
       "      <td>0.0</td>\n",
       "      <td>0.0</td>\n",
       "      <td>0.0</td>\n",
       "      <td>0.0</td>\n",
       "      <td>0.0</td>\n",
       "      <td>...</td>\n",
       "      <td>0.0</td>\n",
       "      <td>0.0</td>\n",
       "      <td>0.0</td>\n",
       "      <td>0.0</td>\n",
       "      <td>0.0</td>\n",
       "      <td>0.0</td>\n",
       "      <td>0.0</td>\n",
       "      <td>0.0</td>\n",
       "      <td>0.0</td>\n",
       "      <td>0.0</td>\n",
       "    </tr>\n",
       "    <tr>\n",
       "      <th>é‹¼ä¹‹éŠé‡‘è¡“å¸« 6</th>\n",
       "      <td>0.0</td>\n",
       "      <td>0.0</td>\n",
       "      <td>0.0</td>\n",
       "      <td>0.0</td>\n",
       "      <td>0.0</td>\n",
       "      <td>0.0</td>\n",
       "      <td>0.0</td>\n",
       "      <td>0.0</td>\n",
       "      <td>0.0</td>\n",
       "      <td>0.0</td>\n",
       "      <td>...</td>\n",
       "      <td>0.0</td>\n",
       "      <td>0.0</td>\n",
       "      <td>0.0</td>\n",
       "      <td>0.0</td>\n",
       "      <td>0.0</td>\n",
       "      <td>0.0</td>\n",
       "      <td>0.0</td>\n",
       "      <td>0.0</td>\n",
       "      <td>0.0</td>\n",
       "      <td>0.0</td>\n",
       "    </tr>\n",
       "    <tr>\n",
       "      <th>é‹¼ä¹‹éŠé‡‘è¡“å¸« 7</th>\n",
       "      <td>0.0</td>\n",
       "      <td>0.0</td>\n",
       "      <td>0.0</td>\n",
       "      <td>0.0</td>\n",
       "      <td>0.0</td>\n",
       "      <td>0.0</td>\n",
       "      <td>0.0</td>\n",
       "      <td>0.0</td>\n",
       "      <td>0.0</td>\n",
       "      <td>0.0</td>\n",
       "      <td>...</td>\n",
       "      <td>0.0</td>\n",
       "      <td>0.0</td>\n",
       "      <td>0.0</td>\n",
       "      <td>0.0</td>\n",
       "      <td>0.0</td>\n",
       "      <td>0.0</td>\n",
       "      <td>0.0</td>\n",
       "      <td>0.0</td>\n",
       "      <td>0.0</td>\n",
       "      <td>0.0</td>\n",
       "    </tr>\n",
       "    <tr>\n",
       "      <th>é‹¼ä¹‹éŠé‡‘è¡“å¸« 9</th>\n",
       "      <td>0.0</td>\n",
       "      <td>0.0</td>\n",
       "      <td>0.0</td>\n",
       "      <td>0.0</td>\n",
       "      <td>0.0</td>\n",
       "      <td>0.0</td>\n",
       "      <td>0.0</td>\n",
       "      <td>0.0</td>\n",
       "      <td>0.0</td>\n",
       "      <td>0.0</td>\n",
       "      <td>...</td>\n",
       "      <td>0.0</td>\n",
       "      <td>0.0</td>\n",
       "      <td>0.0</td>\n",
       "      <td>0.0</td>\n",
       "      <td>0.0</td>\n",
       "      <td>0.0</td>\n",
       "      <td>0.0</td>\n",
       "      <td>0.0</td>\n",
       "      <td>0.0</td>\n",
       "      <td>0.0</td>\n",
       "    </tr>\n",
       "  </tbody>\n",
       "</table>\n",
       "<p>10349 rows × 11124 columns</p>\n",
       "</div>"
      ],
      "text/plain": [
       "bookID                                              1      2      4      \\\n",
       "title                                                                     \n",
       "  said the shotgun to the head.                       0.0    0.0    0.0   \n",
       "$30 Film School: How to Write  Direct  Produce ...    0.0    0.0    0.0   \n",
       "'Salem's Lot                                          0.0    0.0    0.0   \n",
       "1 000 Places to See Before You Die                    0.0    0.0    0.0   \n",
       "10 lb Penalty                                         0.0    0.0    0.0   \n",
       "...                                                   ...    ...    ...   \n",
       "é‹¼ä¹‹éŠé‡‘è¡“å¸« 4                                  0.0    0.0    0.0   \n",
       "é‹¼ä¹‹éŠé‡‘è¡“å¸« 5                                  0.0    0.0    0.0   \n",
       "é‹¼ä¹‹éŠé‡‘è¡“å¸« 6                                  0.0    0.0    0.0   \n",
       "é‹¼ä¹‹éŠé‡‘è¡“å¸« 7                                  0.0    0.0    0.0   \n",
       "é‹¼ä¹‹éŠé‡‘è¡“å¸« 9                                  0.0    0.0    0.0   \n",
       "\n",
       "bookID                                              5      8      9      \\\n",
       "title                                                                     \n",
       "  said the shotgun to the head.                       0.0    0.0    0.0   \n",
       "$30 Film School: How to Write  Direct  Produce ...    0.0    0.0    0.0   \n",
       "'Salem's Lot                                          0.0    0.0    0.0   \n",
       "1 000 Places to See Before You Die                    0.0    0.0    0.0   \n",
       "10 lb Penalty                                         0.0    0.0    0.0   \n",
       "...                                                   ...    ...    ...   \n",
       "é‹¼ä¹‹éŠé‡‘è¡“å¸« 4                                  0.0    0.0    0.0   \n",
       "é‹¼ä¹‹éŠé‡‘è¡“å¸« 5                                  0.0    0.0    0.0   \n",
       "é‹¼ä¹‹éŠé‡‘è¡“å¸« 6                                  0.0    0.0    0.0   \n",
       "é‹¼ä¹‹éŠé‡‘è¡“å¸« 7                                  0.0    0.0    0.0   \n",
       "é‹¼ä¹‹éŠé‡‘è¡“å¸« 9                                  0.0    0.0    0.0   \n",
       "\n",
       "bookID                                              10     12     13     \\\n",
       "title                                                                     \n",
       "  said the shotgun to the head.                       0.0    0.0    0.0   \n",
       "$30 Film School: How to Write  Direct  Produce ...    0.0    0.0    0.0   \n",
       "'Salem's Lot                                          0.0    0.0    0.0   \n",
       "1 000 Places to See Before You Die                    0.0    0.0    0.0   \n",
       "10 lb Penalty                                         0.0    0.0    0.0   \n",
       "...                                                   ...    ...    ...   \n",
       "é‹¼ä¹‹éŠé‡‘è¡“å¸« 4                                  0.0    0.0    0.0   \n",
       "é‹¼ä¹‹éŠé‡‘è¡“å¸« 5                                  0.0    0.0    0.0   \n",
       "é‹¼ä¹‹éŠé‡‘è¡“å¸« 6                                  0.0    0.0    0.0   \n",
       "é‹¼ä¹‹éŠé‡‘è¡“å¸« 7                                  0.0    0.0    0.0   \n",
       "é‹¼ä¹‹éŠé‡‘è¡“å¸« 9                                  0.0    0.0    0.0   \n",
       "\n",
       "bookID                                              14     ...  45617  45623  \\\n",
       "title                                                      ...                 \n",
       "  said the shotgun to the head.                       0.0  ...    0.0    0.0   \n",
       "$30 Film School: How to Write  Direct  Produce ...    0.0  ...    0.0    0.0   \n",
       "'Salem's Lot                                          0.0  ...    0.0    0.0   \n",
       "1 000 Places to See Before You Die                    0.0  ...    0.0    0.0   \n",
       "10 lb Penalty                                         0.0  ...    0.0    0.0   \n",
       "...                                                   ...  ...    ...    ...   \n",
       "é‹¼ä¹‹éŠé‡‘è¡“å¸« 4                                  0.0  ...    0.0    0.0   \n",
       "é‹¼ä¹‹éŠé‡‘è¡“å¸« 5                                  0.0  ...    0.0    0.0   \n",
       "é‹¼ä¹‹éŠé‡‘è¡“å¸« 6                                  0.0  ...    0.0    0.0   \n",
       "é‹¼ä¹‹éŠé‡‘è¡“å¸« 7                                  0.0  ...    0.0    0.0   \n",
       "é‹¼ä¹‹éŠé‡‘è¡“å¸« 9                                  0.0  ...    0.0    0.0   \n",
       "\n",
       "bookID                                              45625  45626  45630  \\\n",
       "title                                                                     \n",
       "  said the shotgun to the head.                       0.0    0.0    0.0   \n",
       "$30 Film School: How to Write  Direct  Produce ...    0.0    0.0    0.0   \n",
       "'Salem's Lot                                          0.0    0.0    0.0   \n",
       "1 000 Places to See Before You Die                    0.0    0.0    0.0   \n",
       "10 lb Penalty                                         0.0    0.0    0.0   \n",
       "...                                                   ...    ...    ...   \n",
       "é‹¼ä¹‹éŠé‡‘è¡“å¸« 4                                  0.0    0.0    0.0   \n",
       "é‹¼ä¹‹éŠé‡‘è¡“å¸« 5                                  0.0    0.0    0.0   \n",
       "é‹¼ä¹‹éŠé‡‘è¡“å¸« 6                                  0.0    0.0    0.0   \n",
       "é‹¼ä¹‹éŠé‡‘è¡“å¸« 7                                  0.0    0.0    0.0   \n",
       "é‹¼ä¹‹éŠé‡‘è¡“å¸« 9                                  0.0    0.0    0.0   \n",
       "\n",
       "bookID                                              45631  45633  45634  \\\n",
       "title                                                                     \n",
       "  said the shotgun to the head.                       0.0    0.0    0.0   \n",
       "$30 Film School: How to Write  Direct  Produce ...    0.0    0.0    0.0   \n",
       "'Salem's Lot                                          0.0    0.0    0.0   \n",
       "1 000 Places to See Before You Die                    0.0    0.0    0.0   \n",
       "10 lb Penalty                                         0.0    0.0    0.0   \n",
       "...                                                   ...    ...    ...   \n",
       "é‹¼ä¹‹éŠé‡‘è¡“å¸« 4                                  0.0    0.0    0.0   \n",
       "é‹¼ä¹‹éŠé‡‘è¡“å¸« 5                                  0.0    0.0    0.0   \n",
       "é‹¼ä¹‹éŠé‡‘è¡“å¸« 6                                  0.0    0.0    0.0   \n",
       "é‹¼ä¹‹éŠé‡‘è¡“å¸« 7                                  0.0    0.0    0.0   \n",
       "é‹¼ä¹‹éŠé‡‘è¡“å¸« 9                                  0.0    0.0    0.0   \n",
       "\n",
       "bookID                                              45639  45641  \n",
       "title                                                             \n",
       "  said the shotgun to the head.                       0.0    0.0  \n",
       "$30 Film School: How to Write  Direct  Produce ...    0.0    0.0  \n",
       "'Salem's Lot                                          0.0    0.0  \n",
       "1 000 Places to See Before You Die                    0.0    0.0  \n",
       "10 lb Penalty                                         0.0    0.0  \n",
       "...                                                   ...    ...  \n",
       "é‹¼ä¹‹éŠé‡‘è¡“å¸« 4                                  0.0    0.0  \n",
       "é‹¼ä¹‹éŠé‡‘è¡“å¸« 5                                  0.0    0.0  \n",
       "é‹¼ä¹‹éŠé‡‘è¡“å¸« 6                                  0.0    0.0  \n",
       "é‹¼ä¹‹éŠé‡‘è¡“å¸« 7                                  0.0    0.0  \n",
       "é‹¼ä¹‹éŠé‡‘è¡“å¸« 9                                  0.0    0.0  \n",
       "\n",
       "[10349 rows x 11124 columns]"
      ]
     },
     "execution_count": 59,
     "metadata": {},
     "output_type": "execute_result"
    }
   ],
   "source": [
    "book_pivot_table"
   ]
  },
  {
   "cell_type": "markdown",
   "metadata": {},
   "source": [
    "# Using clustering algorithm - Nearest neighbour for finding similar books to recommend from the dataset"
   ]
  },
  {
   "cell_type": "code",
   "execution_count": null,
   "metadata": {},
   "outputs": [
    {
     "data": {
      "text/plain": [
       "<10349x11124 sparse matrix of type '<class 'numpy.float64'>'\n",
       "\twith 11099 stored elements in Compressed Sparse Row format>"
      ]
     },
     "execution_count": 61,
     "metadata": {},
     "output_type": "execute_result"
    }
   ],
   "source": [
    "book_sparse=csr_matrix(book_pivot_table)\n",
    "book_sparse"
   ]
  },
  {
   "cell_type": "code",
   "execution_count": null,
   "metadata": {},
   "outputs": [],
   "source": [
    "\n",
    "model=NearestNeighbors(algorithm='brute')"
   ]
  },
  {
   "cell_type": "code",
   "execution_count": null,
   "metadata": {},
   "outputs": [
    {
     "data": {
      "text/html": [
       "<style>#sk-container-id-1 {color: black;}#sk-container-id-1 pre{padding: 0;}#sk-container-id-1 div.sk-toggleable {background-color: white;}#sk-container-id-1 label.sk-toggleable__label {cursor: pointer;display: block;width: 100%;margin-bottom: 0;padding: 0.3em;box-sizing: border-box;text-align: center;}#sk-container-id-1 label.sk-toggleable__label-arrow:before {content: \"▸\";float: left;margin-right: 0.25em;color: #696969;}#sk-container-id-1 label.sk-toggleable__label-arrow:hover:before {color: black;}#sk-container-id-1 div.sk-estimator:hover label.sk-toggleable__label-arrow:before {color: black;}#sk-container-id-1 div.sk-toggleable__content {max-height: 0;max-width: 0;overflow: hidden;text-align: left;background-color: #f0f8ff;}#sk-container-id-1 div.sk-toggleable__content pre {margin: 0.2em;color: black;border-radius: 0.25em;background-color: #f0f8ff;}#sk-container-id-1 input.sk-toggleable__control:checked~div.sk-toggleable__content {max-height: 200px;max-width: 100%;overflow: auto;}#sk-container-id-1 input.sk-toggleable__control:checked~label.sk-toggleable__label-arrow:before {content: \"▾\";}#sk-container-id-1 div.sk-estimator input.sk-toggleable__control:checked~label.sk-toggleable__label {background-color: #d4ebff;}#sk-container-id-1 div.sk-label input.sk-toggleable__control:checked~label.sk-toggleable__label {background-color: #d4ebff;}#sk-container-id-1 input.sk-hidden--visually {border: 0;clip: rect(1px 1px 1px 1px);clip: rect(1px, 1px, 1px, 1px);height: 1px;margin: -1px;overflow: hidden;padding: 0;position: absolute;width: 1px;}#sk-container-id-1 div.sk-estimator {font-family: monospace;background-color: #f0f8ff;border: 1px dotted black;border-radius: 0.25em;box-sizing: border-box;margin-bottom: 0.5em;}#sk-container-id-1 div.sk-estimator:hover {background-color: #d4ebff;}#sk-container-id-1 div.sk-parallel-item::after {content: \"\";width: 100%;border-bottom: 1px solid gray;flex-grow: 1;}#sk-container-id-1 div.sk-label:hover label.sk-toggleable__label {background-color: #d4ebff;}#sk-container-id-1 div.sk-serial::before {content: \"\";position: absolute;border-left: 1px solid gray;box-sizing: border-box;top: 0;bottom: 0;left: 50%;z-index: 0;}#sk-container-id-1 div.sk-serial {display: flex;flex-direction: column;align-items: center;background-color: white;padding-right: 0.2em;padding-left: 0.2em;position: relative;}#sk-container-id-1 div.sk-item {position: relative;z-index: 1;}#sk-container-id-1 div.sk-parallel {display: flex;align-items: stretch;justify-content: center;background-color: white;position: relative;}#sk-container-id-1 div.sk-item::before, #sk-container-id-1 div.sk-parallel-item::before {content: \"\";position: absolute;border-left: 1px solid gray;box-sizing: border-box;top: 0;bottom: 0;left: 50%;z-index: -1;}#sk-container-id-1 div.sk-parallel-item {display: flex;flex-direction: column;z-index: 1;position: relative;background-color: white;}#sk-container-id-1 div.sk-parallel-item:first-child::after {align-self: flex-end;width: 50%;}#sk-container-id-1 div.sk-parallel-item:last-child::after {align-self: flex-start;width: 50%;}#sk-container-id-1 div.sk-parallel-item:only-child::after {width: 0;}#sk-container-id-1 div.sk-dashed-wrapped {border: 1px dashed gray;margin: 0 0.4em 0.5em 0.4em;box-sizing: border-box;padding-bottom: 0.4em;background-color: white;}#sk-container-id-1 div.sk-label label {font-family: monospace;font-weight: bold;display: inline-block;line-height: 1.2em;}#sk-container-id-1 div.sk-label-container {text-align: center;}#sk-container-id-1 div.sk-container {/* jupyter's `normalize.less` sets `[hidden] { display: none; }` but bootstrap.min.css set `[hidden] { display: none !important; }` so we also need the `!important` here to be able to override the default hidden behavior on the sphinx rendered scikit-learn.org. See: https://github.com/scikit-learn/scikit-learn/issues/21755 */display: inline-block !important;position: relative;}#sk-container-id-1 div.sk-text-repr-fallback {display: none;}</style><div id=\"sk-container-id-1\" class=\"sk-top-container\"><div class=\"sk-text-repr-fallback\"><pre>NearestNeighbors(algorithm=&#x27;brute&#x27;)</pre><b>In a Jupyter environment, please rerun this cell to show the HTML representation or trust the notebook. <br />On GitHub, the HTML representation is unable to render, please try loading this page with nbviewer.org.</b></div><div class=\"sk-container\" hidden><div class=\"sk-item\"><div class=\"sk-estimator sk-toggleable\"><input class=\"sk-toggleable__control sk-hidden--visually\" id=\"sk-estimator-id-1\" type=\"checkbox\" checked><label for=\"sk-estimator-id-1\" class=\"sk-toggleable__label sk-toggleable__label-arrow\">NearestNeighbors</label><div class=\"sk-toggleable__content\"><pre>NearestNeighbors(algorithm=&#x27;brute&#x27;)</pre></div></div></div></div></div>"
      ],
      "text/plain": [
       "NearestNeighbors(algorithm='brute')"
      ]
     },
     "execution_count": 63,
     "metadata": {},
     "output_type": "execute_result"
    }
   ],
   "source": [
    "model.fit(book_sparse)"
   ]
  },
  {
   "cell_type": "code",
   "execution_count": null,
   "metadata": {},
   "outputs": [],
   "source": [
    "book_names=book_pivot_table.index"
   ]
  },
  {
   "cell_type": "code",
   "execution_count": null,
   "metadata": {},
   "outputs": [],
   "source": [
    "book_names=np.unique(book_names)"
   ]
  },
  {
   "cell_type": "code",
   "execution_count": null,
   "metadata": {},
   "outputs": [
    {
     "data": {
      "text/plain": [
       "Index(['  said the shotgun to the head.',\n",
       "       '$30 Film School: How to Write  Direct  Produce  Shoot  Edit  Distribute  Tour With  and Sell Your Own No-Budget Digital Movie',\n",
       "       ''Salem's Lot', '1 000 Places to See Before You Die', '10 lb Penalty',\n",
       "       '100 Great Fantasy Short Short Stories', '100 Love Sonnets',\n",
       "       '100 Years of Lynchings', '1000 Record Covers',\n",
       "       '1000 Rings: Inspiring Adornments for the Hand',\n",
       "       ...\n",
       "       'é‹¼ã®éŒ¬é‡‘è¡“å¸« 5 (Fullmetal Alchemist  #5)',\n",
       "       'é‹¼ã®éŒ¬é‡‘è¡“å¸« 8 (Fullmetal Alchemist 8)', 'é‹¼ä¹‹éŠé‡‘è¡“å¸« 1',\n",
       "       'é‹¼ä¹‹éŠé‡‘è¡“å¸« 10', 'é‹¼ä¹‹éŠé‡‘è¡“å¸« 2', 'é‹¼ä¹‹éŠé‡‘è¡“å¸« 4',\n",
       "       'é‹¼ä¹‹éŠé‡‘è¡“å¸« 5', 'é‹¼ä¹‹éŠé‡‘è¡“å¸« 6', 'é‹¼ä¹‹éŠé‡‘è¡“å¸« 7',\n",
       "       'é‹¼ä¹‹éŠé‡‘è¡“å¸« 9'],\n",
       "      dtype='object', name='title', length=10349)"
      ]
     },
     "execution_count": 85,
     "metadata": {},
     "output_type": "execute_result"
    }
   ],
   "source": [
    "book_names"
   ]
  },
  {
   "cell_type": "code",
   "execution_count": null,
   "metadata": {},
   "outputs": [],
   "source": [
    "def recommendation(book_title):\n",
    "    book_id=np.where(book_pivot_table.index ==book_title)[0][0]\n",
    "    distance, suggestion = model.kneighbors(book_pivot_table.iloc[book_id,:].values.reshape(1,-1),n_neighbors=6)\n",
    "    for i in range(len(suggestion)):\n",
    "        books=book_pivot_table.index[suggestion[i]]\n",
    "        for j in books:\n",
    "            print(j)\n"
   ]
  },
  {
   "cell_type": "code",
   "execution_count": null,
   "metadata": {},
   "outputs": [
    {
     "data": {
      "text/plain": [
       "Index(['  said the shotgun to the head.',\n",
       "       '$30 Film School: How to Write  Direct  Produce  Shoot  Edit  Distribute  Tour With  and Sell Your Own No-Budget Digital Movie',\n",
       "       ''Salem's Lot', '1 000 Places to See Before You Die', '10 lb Penalty',\n",
       "       '100 Great Fantasy Short Short Stories', '100 Love Sonnets',\n",
       "       '100 Years of Lynchings', '1000 Record Covers',\n",
       "       '1000 Rings: Inspiring Adornments for the Hand',\n",
       "       ...\n",
       "       'é‹¼ã®éŒ¬é‡‘è¡“å¸« 5 (Fullmetal Alchemist  #5)',\n",
       "       'é‹¼ã®éŒ¬é‡‘è¡“å¸« 8 (Fullmetal Alchemist 8)', 'é‹¼ä¹‹éŠé‡‘è¡“å¸« 1',\n",
       "       'é‹¼ä¹‹éŠé‡‘è¡“å¸« 10', 'é‹¼ä¹‹éŠé‡‘è¡“å¸« 2', 'é‹¼ä¹‹éŠé‡‘è¡“å¸« 4',\n",
       "       'é‹¼ä¹‹éŠé‡‘è¡“å¸« 5', 'é‹¼ä¹‹éŠé‡‘è¡“å¸« 6', 'é‹¼ä¹‹éŠé‡‘è¡“å¸« 7',\n",
       "       'é‹¼ä¹‹éŠé‡‘è¡“å¸« 9'],\n",
       "      dtype='object', name='title', length=10349)"
      ]
     },
     "execution_count": 88,
     "metadata": {},
     "output_type": "execute_result"
    }
   ],
   "source": [
    "book_names"
   ]
  },
  {
   "cell_type": "markdown",
   "metadata": {},
   "source": [
    "# Recommending books from random book names selected from the dataset"
   ]
  },
  {
   "cell_type": "markdown",
   "metadata": {},
   "source": [
    "### Book 1"
   ]
  },
  {
   "cell_type": "code",
   "execution_count": null,
   "metadata": {},
   "outputs": [
    {
     "data": {
      "text/plain": [
       "'Inferno'"
      ]
     },
     "execution_count": 118,
     "metadata": {},
     "output_type": "execute_result"
    }
   ],
   "source": [
    "book=random.choice(book_names)\n",
    "book"
   ]
  },
  {
   "cell_type": "code",
   "execution_count": null,
   "metadata": {},
   "outputs": [
    {
     "name": "stdout",
     "output_type": "stream",
     "text": [
      "Inferno\n",
      "Canopy: A Work for Voice and Light in Harvard Yard\n",
      "Anthony Thwaite: In Conversation With Peter Dale and Ian Hamilton\n",
      "American Film Guide\n",
      "Classroom Interactions as Cross-Cultural Encounters: Native Speakers in EFL Lessons\n",
      "American Writers  Supplement VIII\n"
     ]
    }
   ],
   "source": [
    "recommendation(book)"
   ]
  },
  {
   "cell_type": "markdown",
   "metadata": {},
   "source": [
    "### Book 2"
   ]
  },
  {
   "cell_type": "code",
   "execution_count": null,
   "metadata": {},
   "outputs": [
    {
     "data": {
      "text/plain": [
       "'The Design and Implementation of the 4.3BSD UNIX Operating System'"
      ]
     },
     "execution_count": 120,
     "metadata": {},
     "output_type": "execute_result"
    }
   ],
   "source": [
    "book=random.choice(book_names)\n",
    "book"
   ]
  },
  {
   "cell_type": "code",
   "execution_count": null,
   "metadata": {},
   "outputs": [
    {
     "name": "stdout",
     "output_type": "stream",
     "text": [
      "The Design and Implementation of the 4.3BSD UNIX Operating System\n",
      "Canopy: A Work for Voice and Light in Harvard Yard\n",
      "Anthony Thwaite: In Conversation With Peter Dale and Ian Hamilton\n",
      "American Film Guide\n",
      "Classroom Interactions as Cross-Cultural Encounters: Native Speakers in EFL Lessons\n",
      "American Writers  Supplement VIII\n"
     ]
    }
   ],
   "source": [
    "recommendation(book)"
   ]
  },
  {
   "cell_type": "markdown",
   "metadata": {},
   "source": [
    "### Book 3"
   ]
  },
  {
   "cell_type": "code",
   "execution_count": null,
   "metadata": {},
   "outputs": [
    {
     "data": {
      "text/plain": [
       "\"Cook's Illustrated 1995 (Cook's Illustrated Annuals)\""
      ]
     },
     "execution_count": 122,
     "metadata": {},
     "output_type": "execute_result"
    }
   ],
   "source": [
    "book=random.choice(book_names)\n",
    "book"
   ]
  },
  {
   "cell_type": "code",
   "execution_count": null,
   "metadata": {},
   "outputs": [
    {
     "name": "stdout",
     "output_type": "stream",
     "text": [
      "Cook's Illustrated 1995 (Cook's Illustrated Annuals)\n",
      "Canopy: A Work for Voice and Light in Harvard Yard\n",
      "Anthony Thwaite: In Conversation With Peter Dale and Ian Hamilton\n",
      "American Film Guide\n",
      "Classroom Interactions as Cross-Cultural Encounters: Native Speakers in EFL Lessons\n",
      "American Writers  Supplement VIII\n"
     ]
    }
   ],
   "source": [
    "recommendation(book)"
   ]
  },
  {
   "cell_type": "markdown",
   "metadata": {},
   "source": [
    "### Book 4"
   ]
  },
  {
   "cell_type": "code",
   "execution_count": null,
   "metadata": {},
   "outputs": [
    {
     "data": {
      "text/plain": [
       "'Voices From the Street'"
      ]
     },
     "execution_count": 124,
     "metadata": {},
     "output_type": "execute_result"
    }
   ],
   "source": [
    "book=random.choice(book_names)\n",
    "book"
   ]
  },
  {
   "cell_type": "code",
   "execution_count": null,
   "metadata": {},
   "outputs": [
    {
     "name": "stdout",
     "output_type": "stream",
     "text": [
      "Voices From the Street\n",
      "Canopy: A Work for Voice and Light in Harvard Yard\n",
      "Anthony Thwaite: In Conversation With Peter Dale and Ian Hamilton\n",
      "American Film Guide\n",
      "Classroom Interactions as Cross-Cultural Encounters: Native Speakers in EFL Lessons\n",
      "American Writers  Supplement VIII\n"
     ]
    }
   ],
   "source": [
    "recommendation(book)"
   ]
  },
  {
   "cell_type": "markdown",
   "metadata": {},
   "source": [
    "### Book 5"
   ]
  },
  {
   "cell_type": "code",
   "execution_count": null,
   "metadata": {},
   "outputs": [
    {
     "data": {
      "text/plain": [
       "'Shadow of the Almighty: The Life and Testament of Jim Elliot'"
      ]
     },
     "execution_count": 126,
     "metadata": {},
     "output_type": "execute_result"
    }
   ],
   "source": [
    "book=random.choice(book_names)\n",
    "book"
   ]
  },
  {
   "cell_type": "code",
   "execution_count": null,
   "metadata": {},
   "outputs": [
    {
     "name": "stdout",
     "output_type": "stream",
     "text": [
      "Shadow of the Almighty: The Life and Testament of Jim Elliot\n",
      "Canopy: A Work for Voice and Light in Harvard Yard\n",
      "Anthony Thwaite: In Conversation With Peter Dale and Ian Hamilton\n",
      "American Film Guide\n",
      "Classroom Interactions as Cross-Cultural Encounters: Native Speakers in EFL Lessons\n",
      "American Writers  Supplement VIII\n"
     ]
    }
   ],
   "source": [
    "recommendation(book)"
   ]
  }
 ],
 "metadata": {
  "kernelspec": {
   "display_name": "Python 3",
   "language": "python",
   "name": "python3"
  },
  "language_info": {
   "codemirror_mode": {
    "name": "ipython",
    "version": 3
   },
   "file_extension": ".py",
   "mimetype": "text/x-python",
   "name": "python",
   "nbconvert_exporter": "python",
   "pygments_lexer": "ipython3",
   "version": "3.11.5"
  }
 },
 "nbformat": 4,
 "nbformat_minor": 2
}
